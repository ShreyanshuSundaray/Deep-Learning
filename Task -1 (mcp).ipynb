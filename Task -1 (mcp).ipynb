{
 "cells": [
  {
   "cell_type": "markdown",
   "id": "f7ce30ac",
   "metadata": {},
   "source": [
    "# Function for Mcp-neuron"
   ]
  },
  {
   "cell_type": "code",
   "execution_count": 20,
   "id": "461658ea",
   "metadata": {},
   "outputs": [],
   "source": [
    "import numpy as np\n",
    "\n",
    "def mcp_neuron(inputs,weights,activation):\n",
    "    #weights = np.ones_like(inputs)  # Set all weights to 1 for MCP neuron\n",
    "\n",
    "    if activation == \"and\":\n",
    "        threshold = np.sum(weights)\n",
    "    elif activation == \"or\":\n",
    "        threshold = 1\n",
    "    else:\n",
    "        raise ValueError(\"Invalid activation. Please choose 'and' or 'or'.\")\n",
    "\n",
    "    weighted_sum = np.sum(inputs * weights)\n",
    "\n",
    "    if weighted_sum >= threshold:\n",
    "        return 1\n",
    "    else:\n",
    "        return 0\n"
   ]
  },
  {
   "cell_type": "code",
   "execution_count": null,
   "id": "1f94d7e2",
   "metadata": {},
   "outputs": [],
   "source": []
  },
  {
   "cell_type": "code",
   "execution_count": 25,
   "id": "9055be39",
   "metadata": {},
   "outputs": [
    {
     "name": "stdout",
     "output_type": "stream",
     "text": [
      "AND output: 0\n",
      "OR output: 1\n"
     ]
    }
   ],
   "source": [
    "inputs_and = np.array([1, 1, -1])  # n-dimensional inputs for AND operation\n",
    "inputs_or = np.array([1,0,0])   # n-dimensional inputs for OR operation\n",
    "weights = np.array([1,2,4])\n",
    "output_and = mcp_neuron(inputs_and,weights, \"and\")\n",
    "output_or = mcp_neuron(inputs_or,weights, \"or\")\n",
    "\n",
    "print(\"AND output:\", output_and)\n",
    "print(\"OR output:\", output_or)\n"
   ]
  },
  {
   "cell_type": "code",
   "execution_count": 18,
   "id": "7ad8d6b7",
   "metadata": {},
   "outputs": [
    {
     "data": {
      "text/plain": [
       "7"
      ]
     },
     "execution_count": 18,
     "metadata": {},
     "output_type": "execute_result"
    }
   ],
   "source": [
    "np.sum( inputs_and*weights )"
   ]
  },
  {
   "cell_type": "code",
   "execution_count": null,
   "id": "d8177bb9",
   "metadata": {},
   "outputs": [],
   "source": []
  },
  {
   "cell_type": "code",
   "execution_count": null,
   "id": "a4397e8a",
   "metadata": {},
   "outputs": [],
   "source": []
  }
 ],
 "metadata": {
  "kernelspec": {
   "display_name": "Python 3 (ipykernel)",
   "language": "python",
   "name": "python3"
  },
  "language_info": {
   "codemirror_mode": {
    "name": "ipython",
    "version": 3
   },
   "file_extension": ".py",
   "mimetype": "text/x-python",
   "name": "python",
   "nbconvert_exporter": "python",
   "pygments_lexer": "ipython3",
   "version": "3.9.13"
  }
 },
 "nbformat": 4,
 "nbformat_minor": 5
}
